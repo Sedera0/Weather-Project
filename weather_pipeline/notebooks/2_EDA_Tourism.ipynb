{
 "cells": [
  {
   "cell_type": "markdown",
   "id": "814a9a22",
   "metadata": {},
   "source": [
    "# EDA - Scores Touristiques\n",
    "## Analyse des indicateurs calculés"
   ]
  },
  {
   "cell_type": "code",
   "execution_count": 1,
   "id": "bee42070",
   "metadata": {},
   "outputs": [],
   "source": [
    "import matplotlib.pyplot as plt\n",
    "import seaborn as sns\n",
    "from pathlib import Path\n",
    "import pandas as pd\n",
    "import numpy as np\n",
    "\n",
    "# 1. Configuration du style\n",
    "sns.set_theme(style=\"whitegrid\", palette=\"viridis\")\n",
    "plt.figure(figsize=(10, 6))\n",
    "\n",
    "# 2. Chargement des données (exemple)\n",
    "df = pd.DataFrame({\n",
    "    'season': ['Printemps']*30 + ['Été']*30 + ['Automne']*30 + ['Hiver']*30,\n",
    "    'avg_score': (list(np.random.normal(2.8, 0.3, 30)) + \n",
    "                 list(np.random.normal(3.2, 0.2, 30)) +\n",
    "                 list(np.random.normal(2.5, 0.4, 30)) +\n",
    "                 list(np.random.normal(1.9, 0.3, 30)))\n",
    "})\n",
    "\n",
    "# 3. Boxplot version moderne (sans warning)\n",
    "ax = sns.boxplot(\n",
    "    data=df,\n",
    "    x='season',\n",
    "    y='avg_score',\n",
    "    hue='season',  # Obligatoire avec palette\n",
    "    palette=\"viridis\",\n",
    "    legend=False,  # Évite la légende redondante\n",
    "    width=0.6,\n",
    "    linewidth=1.5,\n",
    "    fliersize=4\n",
    ")\n",
    "\n",
    "# 4. Personnalisation avancée\n",
    "ax.set(\n",
    "    title='Distribution des Scores Touristiques par Saison\\n',\n",
    "    xlabel='',\n",
    "    ylabel='Score Moyen',\n",
    "    ylim=(1, 4)  # Ajuster selon vos données\n",
    ")\n",
    "\n",
    "# 5. Ajout de moyennes\n",
    "sns.stripplot(\n",
    "    data=df,\n",
    "    x='season',\n",
    "    y='avg_score',\n",
    "    color='black',\n",
    "    size=4,\n",
    "    alpha=0.3,\n",
    "    jitter=True\n",
    ")\n",
    "\n",
    "# 6. Finalisation\n",
    "plt.axhline(y=2.5, color='red', linestyle='--', alpha=0.5)  # Seuil de référence\n",
    "sns.despine(left=True)\n",
    "plt.tight_layout()\n",
    "\n",
    "# 7. Sauvegarde professionnelle\n",
    "output_dir = Path(\"plots\")\n",
    "output_dir.mkdir(exist_ok=True)\n",
    "plt.savefig(\n",
    "    output_dir / \"season_boxplot_seaborn.png\",\n",
    "    dpi=300,\n",
    "    bbox_inches='tight',\n",
    "    transparent=False\n",
    ")\n",
    "plt.close()"
   ]
  }
 ],
 "metadata": {
  "kernelspec": {
   "display_name": "airflow_venv",
   "language": "python",
   "name": "python3"
  },
  "language_info": {
   "codemirror_mode": {
    "name": "ipython",
    "version": 3
   },
   "file_extension": ".py",
   "mimetype": "text/x-python",
   "name": "python",
   "nbconvert_exporter": "python",
   "pygments_lexer": "ipython3",
   "version": "3.12.3"
  }
 },
 "nbformat": 4,
 "nbformat_minor": 5
}
